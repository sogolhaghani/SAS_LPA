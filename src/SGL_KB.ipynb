{
 "nbformat": 4,
 "nbformat_minor": 2,
 "metadata": {
  "language_info": {
   "name": "python",
   "codemirror_mode": {
    "name": "ipython",
    "version": 3
   },
   "version": "3.7.3-final"
  },
  "orig_nbformat": 2,
  "file_extension": ".py",
  "mimetype": "text/x-python",
  "name": "python",
  "npconvert_exporter": "python",
  "pygments_lexer": "ipython3",
  "version": 3,
  "kernelspec": {
   "name": "python37364bitbaseconda438fc102451c4c87a467dcbdef7aa75c",
   "display_name": "Python 3.7.3 64-bit ('base': conda)"
  }
 },
 "cells": [
  {
   "cell_type": "markdown",
   "execution_count": 1,
   "metadata": {},
   "outputs": [],
   "source": [
    "# Example"
   ]
  },
  {
   "cell_type": "markdown",
   "execution_count": null,
   "metadata": {},
   "outputs": [],
   "source": [
    "# imports"
   ]
  },
  {
   "cell_type": "code",
   "execution_count": 1,
   "metadata": {},
   "outputs": [],
   "source": [
    "import build_graph\n",
    "import simple_matching_coeffitient\n",
    "# import laplacian_centrality\n",
    "import LaplaceDynamic\n",
    "import SGL_KB_lpa\n",
    "import networkx as nx\n",
    "from sklearn.metrics import jaccard_score\n",
    "from sklearn.metrics.pairwise import cosine_similarity\n",
    "from sklearn.metrics.cluster import normalized_mutual_info_score"
   ]
  },
  {
   "cell_type": "markdown",
   "execution_count": null,
   "metadata": {},
   "outputs": [],
   "source": [
    "## Choose data you would like to use\n",
    "### Data statics are displayed\n",
    "#### S : adjacency matrix with prepoces\n",
    "#### S_ori : original adjacency matrix\n",
    "#### A : attribute matrix with preprocess\n",
    "#### clus : true cluster of nodes\n",
    "#### flag : with ground truth or without\n",
    "#### A_ori : original attribute matrix"
   ]
  },
  {
   "cell_type": "code",
   "execution_count": 3,
   "metadata": {},
   "outputs": [
    {
     "ename": "SyntaxError",
     "evalue": "invalid syntax (<ipython-input-3-60bf217eeb68>, line 1)",
     "output_type": "error",
     "traceback": [
      "\u001b[0;36m  File \u001b[0;32m\"<ipython-input-3-60bf217eeb68>\"\u001b[0;36m, line \u001b[0;32m1\u001b[0m\n\u001b[0;31m    data=\"WebKB_univ\"/\u001b[0m\n\u001b[0m                      ^\u001b[0m\n\u001b[0;31mSyntaxError\u001b[0m\u001b[0;31m:\u001b[0m invalid syntax\n"
     ]
    }
   ],
   "source": [
    "data=\"WebKB_univ\"/\n",
    "# data=\"citeseer\"\n",
    "# data = \"polblog\"\n",
    "# data = \"cora\"\n",
    "data_path = \"../data/\"+data\n",
    "S, S_ori, X, true_clus, flag, A_ori = build_graph.build_graph(data_path)"
   ]
  },
  {
   "cell_type": "markdown",
   "execution_count": null,
   "metadata": {},
   "outputs": [],
   "source": [
    "## Convert to NetworkX Graph"
   ]
  },
  {
   "cell_type": "code",
   "execution_count": 3,
   "metadata": {},
   "outputs": [],
   "source": [
    "G = nx.Graph(S_ori)\n",
    "a_dic = {i : A_ori[i] for i in range(0, len(A_ori) ) }\n",
    "nx.set_node_attributes(G, a_dic, 'attr_vec')"
   ]
  },
  {
   "cell_type": "markdown",
   "execution_count": null,
   "metadata": {},
   "outputs": [],
   "source": [
    "## Calculate Node Similarity"
   ]
  },
  {
   "cell_type": "code",
   "execution_count": 4,
   "metadata": {},
   "outputs": [],
   "source": [
    "_score = {}\n",
    "for e in G.edges:\n",
    "    n_0_v = G.nodes[e[0]]['attr_vec']\n",
    "    n_1_v = G.nodes[e[1]]['attr_vec']\n",
    "    # _score.update( {e : {'weight' : jaccard_score(n_0_v , n_1_v)}})\n",
    "    _score.update( {e : {'weight' : simple_matching_coeffitient.SMC(n_0_v , n_1_v)}})\n",
    "nx.set_edge_attributes(G, _score)"
   ]
  },
  {
   "cell_type": "markdown",
   "execution_count": 45,
   "metadata": {},
   "outputs": [
    {
     "data": {
      "text/plain": "0.6666666666666666"
     },
     "execution_count": 45,
     "metadata": {},
     "output_type": "execute_result"
    }
   ],
   "source": [
    "## Calculate Node Laplacian Centrality and applying LPA"
   ]
  },
  {
   "cell_type": "code",
   "execution_count": 7,
   "metadata": {},
   "outputs": [
    {
     "name": "stdout",
     "output_type": "stream",
     "text": "{4, 5, 519, 1032, 9, 10, 521, 12, 522, 14, 524, 1035, 529, 533, 24, 537, 1050, 540, 29, 35, 1067, 45, 1075, 52, 55, 1080, 1081, 59, 575, 577, 578, 1094, 1097, 1098, 75, 1099, 1102, 591, 1103, 1105, 1106, 1107, 597, 1112, 1113, 605, 1120, 1122, 1127, 107, 1135, 1136, 113, 114, 625, 628, 119, 1146, 124, 639, 129, 130, 644, 649, 138, 650, 651, 1165, 655, 656, 1171, 148, 1173, 1174, 1175, 1176, 1179, 668, 158, 673, 162, 1187, 165, 1190, 167, 680, 172, 173, 685, 175, 176, 1202, 180, 693, 1204, 183, 1208, 697, 188, 1212, 191, 707, 714, 205, 206, 207, 717, 1229, 1230, 1231, 725, 1237, 1244, 223, 737, 739, 740, 1251, 1254, 743, 232, 1256, 746, 235, 237, 750, 1262, 243, 755, 1270, 1273, 252, 1278, 255, 257, 769, 1281, 1282, 773, 262, 1283, 776, 1285, 780, 1296, 273, 785, 1300, 793, 794, 1307, 796, 1312, 290, 291, 802, 805, 1315, 807, 1316, 810, 1323, 1326, 1328, 1329, 819, 1336, 312, 313, 827, 316, 319, 1343, 1344, 1345, 837, 326, 327, 330, 334, 847, 848, 849, 850, 853, 1365, 1368, 345, 346, 1372, 350, 351, 352, 862, 867, 1384, 360, 873, 363, 365, 877, 1391, 1395, 372, 373, 374, 378, 891, 1404, 384, 1410, 899, 901, 390, 1416, 906, 1418, 1419, 1421, 910, 912, 1424, 1425, 403, 1427, 1428, 1431, 409, 924, 414, 1440, 930, 931, 1442, 933, 1446, 422, 424, 934, 935, 1451, 1452, 942, 431, 1454, 946, 1465, 1466, 1468, 1471, 449, 964, 965, 454, 970, 1484, 974, 464, 977, 980, 984, 1016, 987, 992, 994, 488, 496, 499, 1013, 504, 1018, 509}\n272\n"
    }
   ],
   "source": [
    "nodes_cent = LaplaceDynamic.lap_cent_weighted(G, norm=True)\n",
    "# dic_lc = {i : nodes_cent[i] for i in range(0, len(nodes_cent) ) }\n",
    "nx.set_node_attributes(G, nodes_cent, 'weight')\n",
    "SGL_KB_lpa.asyn_lpa_communities(G)"
   ]
  },
  {
   "cell_type": "code",
   "execution_count": null,
   "metadata": {},
   "outputs": [],
   "source": []
  }
 ]
}